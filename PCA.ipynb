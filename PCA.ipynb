{
 "cells": [
  {
   "cell_type": "code",
   "execution_count": 12,
   "metadata": {},
   "outputs": [],
   "source": [
    "import pandas as pd\n",
    "import sklearn \n",
    "import numpy as np"
   ]
  },
  {
   "cell_type": "code",
   "execution_count": 13,
   "metadata": {},
   "outputs": [
    {
     "data": {
      "text/html": [
       "<div>\n",
       "<style scoped>\n",
       "    .dataframe tbody tr th:only-of-type {\n",
       "        vertical-align: middle;\n",
       "    }\n",
       "\n",
       "    .dataframe tbody tr th {\n",
       "        vertical-align: top;\n",
       "    }\n",
       "\n",
       "    .dataframe thead th {\n",
       "        text-align: right;\n",
       "    }\n",
       "</style>\n",
       "<table border=\"1\" class=\"dataframe\">\n",
       "  <thead>\n",
       "    <tr style=\"text-align: right;\">\n",
       "      <th></th>\n",
       "      <th>Cement</th>\n",
       "      <th>BlastFurnaceSlag</th>\n",
       "      <th>FlyAsh</th>\n",
       "      <th>Water</th>\n",
       "      <th>Superplasticizer</th>\n",
       "      <th>CoarseAggregate</th>\n",
       "      <th>FineAggregate</th>\n",
       "      <th>Age</th>\n",
       "      <th>CompressiveStrength</th>\n",
       "    </tr>\n",
       "  </thead>\n",
       "  <tbody>\n",
       "    <tr>\n",
       "      <th>0</th>\n",
       "      <td>540.0</td>\n",
       "      <td>0.0</td>\n",
       "      <td>0.0</td>\n",
       "      <td>162.0</td>\n",
       "      <td>2.5</td>\n",
       "      <td>1040.0</td>\n",
       "      <td>676.0</td>\n",
       "      <td>28</td>\n",
       "      <td>79.99</td>\n",
       "    </tr>\n",
       "    <tr>\n",
       "      <th>1</th>\n",
       "      <td>540.0</td>\n",
       "      <td>0.0</td>\n",
       "      <td>0.0</td>\n",
       "      <td>162.0</td>\n",
       "      <td>2.5</td>\n",
       "      <td>1055.0</td>\n",
       "      <td>676.0</td>\n",
       "      <td>28</td>\n",
       "      <td>61.89</td>\n",
       "    </tr>\n",
       "    <tr>\n",
       "      <th>2</th>\n",
       "      <td>332.5</td>\n",
       "      <td>142.5</td>\n",
       "      <td>0.0</td>\n",
       "      <td>228.0</td>\n",
       "      <td>0.0</td>\n",
       "      <td>932.0</td>\n",
       "      <td>594.0</td>\n",
       "      <td>270</td>\n",
       "      <td>40.27</td>\n",
       "    </tr>\n",
       "    <tr>\n",
       "      <th>3</th>\n",
       "      <td>332.5</td>\n",
       "      <td>142.5</td>\n",
       "      <td>0.0</td>\n",
       "      <td>228.0</td>\n",
       "      <td>0.0</td>\n",
       "      <td>932.0</td>\n",
       "      <td>594.0</td>\n",
       "      <td>365</td>\n",
       "      <td>41.05</td>\n",
       "    </tr>\n",
       "    <tr>\n",
       "      <th>4</th>\n",
       "      <td>198.6</td>\n",
       "      <td>132.4</td>\n",
       "      <td>0.0</td>\n",
       "      <td>192.0</td>\n",
       "      <td>0.0</td>\n",
       "      <td>978.4</td>\n",
       "      <td>825.5</td>\n",
       "      <td>360</td>\n",
       "      <td>44.30</td>\n",
       "    </tr>\n",
       "    <tr>\n",
       "      <th>...</th>\n",
       "      <td>...</td>\n",
       "      <td>...</td>\n",
       "      <td>...</td>\n",
       "      <td>...</td>\n",
       "      <td>...</td>\n",
       "      <td>...</td>\n",
       "      <td>...</td>\n",
       "      <td>...</td>\n",
       "      <td>...</td>\n",
       "    </tr>\n",
       "    <tr>\n",
       "      <th>1025</th>\n",
       "      <td>276.4</td>\n",
       "      <td>116.0</td>\n",
       "      <td>90.3</td>\n",
       "      <td>179.6</td>\n",
       "      <td>8.9</td>\n",
       "      <td>870.1</td>\n",
       "      <td>768.3</td>\n",
       "      <td>28</td>\n",
       "      <td>44.28</td>\n",
       "    </tr>\n",
       "    <tr>\n",
       "      <th>1026</th>\n",
       "      <td>322.2</td>\n",
       "      <td>0.0</td>\n",
       "      <td>115.6</td>\n",
       "      <td>196.0</td>\n",
       "      <td>10.4</td>\n",
       "      <td>817.9</td>\n",
       "      <td>813.4</td>\n",
       "      <td>28</td>\n",
       "      <td>31.18</td>\n",
       "    </tr>\n",
       "    <tr>\n",
       "      <th>1027</th>\n",
       "      <td>148.5</td>\n",
       "      <td>139.4</td>\n",
       "      <td>108.6</td>\n",
       "      <td>192.7</td>\n",
       "      <td>6.1</td>\n",
       "      <td>892.4</td>\n",
       "      <td>780.0</td>\n",
       "      <td>28</td>\n",
       "      <td>23.70</td>\n",
       "    </tr>\n",
       "    <tr>\n",
       "      <th>1028</th>\n",
       "      <td>159.1</td>\n",
       "      <td>186.7</td>\n",
       "      <td>0.0</td>\n",
       "      <td>175.6</td>\n",
       "      <td>11.3</td>\n",
       "      <td>989.6</td>\n",
       "      <td>788.9</td>\n",
       "      <td>28</td>\n",
       "      <td>32.77</td>\n",
       "    </tr>\n",
       "    <tr>\n",
       "      <th>1029</th>\n",
       "      <td>260.9</td>\n",
       "      <td>100.5</td>\n",
       "      <td>78.3</td>\n",
       "      <td>200.6</td>\n",
       "      <td>8.6</td>\n",
       "      <td>864.5</td>\n",
       "      <td>761.5</td>\n",
       "      <td>28</td>\n",
       "      <td>32.40</td>\n",
       "    </tr>\n",
       "  </tbody>\n",
       "</table>\n",
       "<p>1030 rows × 9 columns</p>\n",
       "</div>"
      ],
      "text/plain": [
       "      Cement  BlastFurnaceSlag  FlyAsh  Water  Superplasticizer  \\\n",
       "0      540.0               0.0     0.0  162.0               2.5   \n",
       "1      540.0               0.0     0.0  162.0               2.5   \n",
       "2      332.5             142.5     0.0  228.0               0.0   \n",
       "3      332.5             142.5     0.0  228.0               0.0   \n",
       "4      198.6             132.4     0.0  192.0               0.0   \n",
       "...      ...               ...     ...    ...               ...   \n",
       "1025   276.4             116.0    90.3  179.6               8.9   \n",
       "1026   322.2               0.0   115.6  196.0              10.4   \n",
       "1027   148.5             139.4   108.6  192.7               6.1   \n",
       "1028   159.1             186.7     0.0  175.6              11.3   \n",
       "1029   260.9             100.5    78.3  200.6               8.6   \n",
       "\n",
       "      CoarseAggregate  FineAggregate  Age  CompressiveStrength  \n",
       "0              1040.0          676.0   28                79.99  \n",
       "1              1055.0          676.0   28                61.89  \n",
       "2               932.0          594.0  270                40.27  \n",
       "3               932.0          594.0  365                41.05  \n",
       "4               978.4          825.5  360                44.30  \n",
       "...               ...            ...  ...                  ...  \n",
       "1025            870.1          768.3   28                44.28  \n",
       "1026            817.9          813.4   28                31.18  \n",
       "1027            892.4          780.0   28                23.70  \n",
       "1028            989.6          788.9   28                32.77  \n",
       "1029            864.5          761.5   28                32.40  \n",
       "\n",
       "[1030 rows x 9 columns]"
      ]
     },
     "execution_count": 13,
     "metadata": {},
     "output_type": "execute_result"
    }
   ],
   "source": [
    "df = pd.read_csv('Datasets/concrete.csv')\n",
    "df"
   ]
  },
  {
   "cell_type": "code",
   "execution_count": 14,
   "metadata": {},
   "outputs": [
    {
     "name": "stdout",
     "output_type": "stream",
     "text": [
      " the current dimension of input dataset are :  9\n"
     ]
    }
   ],
   "source": [
    "print(\" the current dimension of input dataset are : \",df.shape[1])"
   ]
  },
  {
   "cell_type": "code",
   "execution_count": 15,
   "metadata": {},
   "outputs": [],
   "source": [
    "#using pcs\n",
    "from sklearn.decomposition import PCA"
   ]
  },
  {
   "cell_type": "code",
   "execution_count": 25,
   "metadata": {},
   "outputs": [
    {
     "data": {
      "text/html": [
       "<div>\n",
       "<style scoped>\n",
       "    .dataframe tbody tr th:only-of-type {\n",
       "        vertical-align: middle;\n",
       "    }\n",
       "\n",
       "    .dataframe tbody tr th {\n",
       "        vertical-align: top;\n",
       "    }\n",
       "\n",
       "    .dataframe thead th {\n",
       "        text-align: right;\n",
       "    }\n",
       "</style>\n",
       "<table border=\"1\" class=\"dataframe\">\n",
       "  <thead>\n",
       "    <tr style=\"text-align: right;\">\n",
       "      <th></th>\n",
       "      <th>0</th>\n",
       "      <th>1</th>\n",
       "      <th>2</th>\n",
       "    </tr>\n",
       "  </thead>\n",
       "  <tbody>\n",
       "    <tr>\n",
       "      <th>0</th>\n",
       "      <td>286.837340</td>\n",
       "      <td>-11.991957</td>\n",
       "      <td>-70.330104</td>\n",
       "    </tr>\n",
       "    <tr>\n",
       "      <th>1</th>\n",
       "      <td>285.428599</td>\n",
       "      <td>-16.858783</td>\n",
       "      <td>-82.093422</td>\n",
       "    </tr>\n",
       "    <tr>\n",
       "      <th>2</th>\n",
       "      <td>103.630965</td>\n",
       "      <td>182.401143</td>\n",
       "      <td>-91.999387</td>\n",
       "    </tr>\n",
       "    <tr>\n",
       "      <th>3</th>\n",
       "      <td>113.213045</td>\n",
       "      <td>189.082839</td>\n",
       "      <td>-103.166922</td>\n",
       "    </tr>\n",
       "    <tr>\n",
       "      <th>4</th>\n",
       "      <td>-55.530906</td>\n",
       "      <td>58.918533</td>\n",
       "      <td>-15.500289</td>\n",
       "    </tr>\n",
       "    <tr>\n",
       "      <th>...</th>\n",
       "      <td>...</td>\n",
       "      <td>...</td>\n",
       "      <td>...</td>\n",
       "    </tr>\n",
       "    <tr>\n",
       "      <th>1025</th>\n",
       "      <td>-22.457816</td>\n",
       "      <td>51.988778</td>\n",
       "      <td>77.808496</td>\n",
       "    </tr>\n",
       "    <tr>\n",
       "      <th>1026</th>\n",
       "      <td>32.753471</td>\n",
       "      <td>-51.042528</td>\n",
       "      <td>141.625697</td>\n",
       "    </tr>\n",
       "    <tr>\n",
       "      <th>1027</th>\n",
       "      <td>-152.553818</td>\n",
       "      <td>50.821343</td>\n",
       "      <td>48.328466</td>\n",
       "    </tr>\n",
       "    <tr>\n",
       "      <th>1028</th>\n",
       "      <td>-131.639706</td>\n",
       "      <td>89.092610</td>\n",
       "      <td>-8.748028</td>\n",
       "    </tr>\n",
       "    <tr>\n",
       "      <th>1029</th>\n",
       "      <td>-28.825940</td>\n",
       "      <td>48.686137</td>\n",
       "      <td>73.889593</td>\n",
       "    </tr>\n",
       "  </tbody>\n",
       "</table>\n",
       "<p>1030 rows × 3 columns</p>\n",
       "</div>"
      ],
      "text/plain": [
       "               0           1           2\n",
       "0     286.837340  -11.991957  -70.330104\n",
       "1     285.428599  -16.858783  -82.093422\n",
       "2     103.630965  182.401143  -91.999387\n",
       "3     113.213045  189.082839 -103.166922\n",
       "4     -55.530906   58.918533  -15.500289\n",
       "...          ...         ...         ...\n",
       "1025  -22.457816   51.988778   77.808496\n",
       "1026   32.753471  -51.042528  141.625697\n",
       "1027 -152.553818   50.821343   48.328466\n",
       "1028 -131.639706   89.092610   -8.748028\n",
       "1029  -28.825940   48.686137   73.889593\n",
       "\n",
       "[1030 rows x 3 columns]"
      ]
     },
     "execution_count": 25,
     "metadata": {},
     "output_type": "execute_result"
    }
   ],
   "source": [
    "pca1 = PCA(n_components=3)\n",
    "input_3D = pca1.fit_transform(df)\n",
    "i = pd.DataFrame(input_3D)\n",
    "i"
   ]
  },
  {
   "cell_type": "code",
   "execution_count": 26,
   "metadata": {},
   "outputs": [
    {
     "data": {
      "text/plain": [
       "array([0.32491298, 0.24752015, 0.18357202])"
      ]
     },
     "execution_count": 26,
     "metadata": {},
     "output_type": "execute_result"
    }
   ],
   "source": [
    "pca1.explained_variance_ratio_"
   ]
  },
  {
   "cell_type": "markdown",
   "metadata": {},
   "source": [
    "Choosing the number of components or dimensions !\n",
    "1. using cumsum of explained_variance_ratio"
   ]
  },
  {
   "cell_type": "code",
   "execution_count": 27,
   "metadata": {},
   "outputs": [
    {
     "name": "stdout",
     "output_type": "stream",
     "text": [
      "[0.32491298 0.57243313 0.75600515 0.86300742 0.96344248 0.99538827\n",
      " 0.99795955 0.99971638 1.        ]\n"
     ]
    }
   ],
   "source": [
    "pca2 = PCA()\n",
    "pca2.fit(df)\n",
    "cumsum = np.cumsum(pca2.explained_variance_ratio_)\n",
    "print(cumsum)"
   ]
  },
  {
   "cell_type": "markdown",
   "metadata": {},
   "source": [
    "As we can see that our max variance is covered when we have atleast first 5 PCs where it is 0.96.\n",
    "This implies that the optimal number of components to be chosen should be 5"
   ]
  },
  {
   "cell_type": "code",
   "execution_count": 28,
   "metadata": {},
   "outputs": [
    {
     "data": {
      "text/plain": [
       "5"
      ]
     },
     "execution_count": 28,
     "metadata": {},
     "output_type": "execute_result"
    }
   ],
   "source": [
    "d = np.argmax(cumsum>=0.95) + 1\n",
    "d"
   ]
  },
  {
   "cell_type": "markdown",
   "metadata": {},
   "source": [
    "2. by setting the n_components == ratio of explained variance we want"
   ]
  },
  {
   "cell_type": "code",
   "execution_count": 24,
   "metadata": {},
   "outputs": [
    {
     "data": {
      "text/html": [
       "<div>\n",
       "<style scoped>\n",
       "    .dataframe tbody tr th:only-of-type {\n",
       "        vertical-align: middle;\n",
       "    }\n",
       "\n",
       "    .dataframe tbody tr th {\n",
       "        vertical-align: top;\n",
       "    }\n",
       "\n",
       "    .dataframe thead th {\n",
       "        text-align: right;\n",
       "    }\n",
       "</style>\n",
       "<table border=\"1\" class=\"dataframe\">\n",
       "  <thead>\n",
       "    <tr style=\"text-align: right;\">\n",
       "      <th></th>\n",
       "      <th>0</th>\n",
       "      <th>1</th>\n",
       "      <th>2</th>\n",
       "      <th>3</th>\n",
       "      <th>4</th>\n",
       "    </tr>\n",
       "  </thead>\n",
       "  <tbody>\n",
       "    <tr>\n",
       "      <th>0</th>\n",
       "      <td>286.837340</td>\n",
       "      <td>-11.991957</td>\n",
       "      <td>-70.330104</td>\n",
       "      <td>-13.810676</td>\n",
       "      <td>-56.981280</td>\n",
       "    </tr>\n",
       "    <tr>\n",
       "      <th>1</th>\n",
       "      <td>285.428599</td>\n",
       "      <td>-16.858783</td>\n",
       "      <td>-82.093422</td>\n",
       "      <td>-21.562809</td>\n",
       "      <td>-58.723490</td>\n",
       "    </tr>\n",
       "    <tr>\n",
       "      <th>2</th>\n",
       "      <td>103.630965</td>\n",
       "      <td>182.401143</td>\n",
       "      <td>-91.999387</td>\n",
       "      <td>90.660378</td>\n",
       "      <td>188.586125</td>\n",
       "    </tr>\n",
       "    <tr>\n",
       "      <th>3</th>\n",
       "      <td>113.213045</td>\n",
       "      <td>189.082839</td>\n",
       "      <td>-103.166922</td>\n",
       "      <td>104.615512</td>\n",
       "      <td>278.465281</td>\n",
       "    </tr>\n",
       "    <tr>\n",
       "      <th>4</th>\n",
       "      <td>-55.530906</td>\n",
       "      <td>58.918533</td>\n",
       "      <td>-15.500289</td>\n",
       "      <td>-28.359291</td>\n",
       "      <td>322.944795</td>\n",
       "    </tr>\n",
       "    <tr>\n",
       "      <th>...</th>\n",
       "      <td>...</td>\n",
       "      <td>...</td>\n",
       "      <td>...</td>\n",
       "      <td>...</td>\n",
       "      <td>...</td>\n",
       "    </tr>\n",
       "    <tr>\n",
       "      <th>1025</th>\n",
       "      <td>-22.457816</td>\n",
       "      <td>51.988778</td>\n",
       "      <td>77.808496</td>\n",
       "      <td>65.726073</td>\n",
       "      <td>-21.276073</td>\n",
       "    </tr>\n",
       "    <tr>\n",
       "      <th>1026</th>\n",
       "      <td>32.753471</td>\n",
       "      <td>-51.042528</td>\n",
       "      <td>141.625697</td>\n",
       "      <td>109.919149</td>\n",
       "      <td>-10.588849</td>\n",
       "    </tr>\n",
       "    <tr>\n",
       "      <th>1027</th>\n",
       "      <td>-152.553818</td>\n",
       "      <td>50.821343</td>\n",
       "      <td>48.328466</td>\n",
       "      <td>59.301845</td>\n",
       "      <td>-6.726311</td>\n",
       "    </tr>\n",
       "    <tr>\n",
       "      <th>1028</th>\n",
       "      <td>-131.639706</td>\n",
       "      <td>89.092610</td>\n",
       "      <td>-8.748028</td>\n",
       "      <td>-76.557828</td>\n",
       "      <td>1.193495</td>\n",
       "    </tr>\n",
       "    <tr>\n",
       "      <th>1029</th>\n",
       "      <td>-28.825940</td>\n",
       "      <td>48.686137</td>\n",
       "      <td>73.889593</td>\n",
       "      <td>67.967650</td>\n",
       "      <td>-14.263765</td>\n",
       "    </tr>\n",
       "  </tbody>\n",
       "</table>\n",
       "<p>1030 rows × 5 columns</p>\n",
       "</div>"
      ],
      "text/plain": [
       "               0           1           2           3           4\n",
       "0     286.837340  -11.991957  -70.330104  -13.810676  -56.981280\n",
       "1     285.428599  -16.858783  -82.093422  -21.562809  -58.723490\n",
       "2     103.630965  182.401143  -91.999387   90.660378  188.586125\n",
       "3     113.213045  189.082839 -103.166922  104.615512  278.465281\n",
       "4     -55.530906   58.918533  -15.500289  -28.359291  322.944795\n",
       "...          ...         ...         ...         ...         ...\n",
       "1025  -22.457816   51.988778   77.808496   65.726073  -21.276073\n",
       "1026   32.753471  -51.042528  141.625697  109.919149  -10.588849\n",
       "1027 -152.553818   50.821343   48.328466   59.301845   -6.726311\n",
       "1028 -131.639706   89.092610   -8.748028  -76.557828    1.193495\n",
       "1029  -28.825940   48.686137   73.889593   67.967650  -14.263765\n",
       "\n",
       "[1030 rows x 5 columns]"
      ]
     },
     "execution_count": 24,
     "metadata": {},
     "output_type": "execute_result"
    }
   ],
   "source": [
    "pca3 = PCA(n_components=0.95)\n",
    "input_reduced = pd.DataFrame(pca3.fit_transform(df))\n",
    "input_reduced"
   ]
  },
  {
   "cell_type": "code",
   "execution_count": 29,
   "metadata": {},
   "outputs": [],
   "source": [
    "import seaborn as sns"
   ]
  },
  {
   "cell_type": "code",
   "execution_count": 34,
   "metadata": {},
   "outputs": [
    {
     "name": "stderr",
     "output_type": "stream",
     "text": [
      "/Users/yash/anaconda3/lib/python3.11/site-packages/seaborn/axisgrid.py:118: UserWarning: The figure layout has changed to tight\n",
      "  self._figure.tight_layout(*args, **kwargs)\n"
     ]
    },
    {
     "data": {
      "text/plain": [
       "<seaborn.axisgrid.FacetGrid at 0x129416fd0>"
      ]
     },
     "execution_count": 34,
     "metadata": {},
     "output_type": "execute_result"
    },
    {
     "data": {
      "image/png": "[encoded data removed]",
      "text/plain": [
       "<Figure size 500x500 with 1 Axes>"
      ]
     },
     "metadata": {},
     "output_type": "display_data"
    }
   ],
   "source": [
    "sns.lineplot(x=(range(0,9)), y=cumsum, kind='')"
   ]
  },
  {
   "cell_type": "code",
   "execution_count": null,
   "metadata": {},
   "outputs": [],
   "source": []
  }
 ],
 "metadata": {
  "kernelspec": {
   "display_name": "base",
   "language": "python",
   "name": "python3"
  },
  "language_info": {
   "codemirror_mode": {
    "name": "ipython",
    "version": 3
   },
   "file_extension": ".py",
   "mimetype": "text/x-python",
   "name": "python",
   "nbconvert_exporter": "python",
   "pygments_lexer": "ipython3",
   "version": "3.11.5"
  }
 },
 "nbformat": 4,
 "nbformat_minor": 2
}
